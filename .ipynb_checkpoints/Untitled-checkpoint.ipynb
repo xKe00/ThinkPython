{
 "cells": [
  {
   "cell_type": "code",
   "execution_count": null,
   "id": "091ff5dc-5695-4db3-82e9-73ad07c3cb82",
   "metadata": {},
   "outputs": [],
   "source": [
    ">>> f = 'banana'\n",
    ">>> f[0:5:2]"
   ]
  },
  {
   "cell_type": "code",
   "execution_count": null,
   "id": "2cbb6dce-6f23-4e4e-8dac-16a8fd7b9a7f",
   "metadata": {},
   "outputs": [],
   "source": [
    "2 + 2"
   ]
  },
  {
   "cell_type": "code",
   "execution_count": null,
   "id": "c4381239-352e-4ff3-b153-070ff00f005d",
   "metadata": {},
   "outputs": [],
   "source": []
  }
 ],
 "metadata": {
  "kernelspec": {
   "display_name": "Python 3 (ipykernel)",
   "language": "python",
   "name": "python3"
  },
  "language_info": {
   "name": ""
  }
 },
 "nbformat": 4,
 "nbformat_minor": 5
}
