{
 "cells": [
  {
   "cell_type": "markdown",
   "id": "55eb788e-22ec-4feb-b027-c2b036cd4320",
   "metadata": {},
   "source": [
    "# Think Python (2nd Edition)\n",
    "## Chapter 7 - Iteration"
   ]
  },
  {
   "cell_type": "markdown",
   "id": "29e16da4-5ea7-4970-8e58-305219cf95a8",
   "metadata": {},
   "source": [
    "### *Exercise 7-1*"
   ]
  },
  {
   "cell_type": "markdown",
   "id": "b3ee2db3-e28f-4603-8938-c2adb43e1b55",
   "metadata": {},
   "source": [
    "Copy the loop from \"Square Roots\" on page 79 and encapsulate it in a function called `mysqrt` that takes `a` as a parameter, chooses a reasonable value of `x`, and returns an estimate of the square root of `a`.\n",
    "\n",
    "To test it, write a function named `test_square_root` that prints a table like this:"
   ]
  },
  {
   "cell_type": "raw",
   "id": "af7b27fe-77a9-4698-b047-cc3d9b753ec2",
   "metadata": {},
   "source": [
    "a   mysqrt(a)     math.sqrt(a)  diff\n",
    "-   ---------     ------------  ----\n",
    "1.0 1.0           1.0           0.0\n",
    "2.0 1.41421356237 1.41421356237 2.22044604925e-16\n",
    "3.0 1.73205080757 1.73205080757 0.0\n",
    "4.0 2.0           2.0           0.0\n",
    "5.0 2.2360679775  2.2360679775  0.0\n",
    "6.0 2.44948974278 2.44948974278 0.0\n",
    "7.0 2.64575131106 2.64575131106 0.0\n",
    "8.0 2.82842712475 2.82842712475 4.4408920985e-16\n",
    "9.0 3.0           3.0           0.0"
   ]
  },
  {
   "cell_type": "markdown",
   "id": "ffee71f6-6a68-4f6e-9289-29b3cc0ccfe8",
   "metadata": {},
   "source": [
    "The first column is a number, a; the second column is the square root of a computed with `mysqrt`; the third column is the square root computed by `math.sqrt`; the fourth column is the absolute value of the difference between the two estimates."
   ]
  },
  {
   "cell_type": "markdown",
   "id": "017caa28-a4f9-4e88-b79d-571743d8abd4",
   "metadata": {},
   "source": [
    "### *My Solution for Exercise 7-1*"
   ]
  },
  {
   "cell_type": "code",
   "execution_count": 1,
   "id": "ff1cf81d-1bab-4d8a-9356-7bb76b2c41d3",
   "metadata": {},
   "outputs": [
    {
     "name": "stdout",
     "output_type": "stream",
     "text": [
      "a    mysqrt(a)      math.sqrt(a)    diff\n",
      "---  -------------  --------------  ---------------------\n",
      "1.0  1.00000000000  1.0000000000    0.0\n",
      "2.0  1.41421356237  1.4142135624    2.220446049250313e-16\n",
      "3.0  1.73205080757  1.7320508076    0.0\n",
      "4.0  2.00000000000  2.0000000000    0.0\n",
      "5.0  2.23606797750  2.2360679775    0.0\n",
      "6.0  2.44948974278  2.4494897428    0.0\n",
      "7.0  2.64575131106  2.6457513111    0.0\n",
      "8.0  2.82842712475  2.8284271247    4.440892098500626e-16\n",
      "9.0  3.00000000000  3.0000000000    0.0\n"
     ]
    }
   ],
   "source": [
    "import math\n",
    "import sys\n",
    "from tabulate import tabulate\n",
    "\n",
    "\n",
    "def mysqrt(a):\n",
    "    x = 1.1\n",
    "    while True:\n",
    "        y = (x + a / x) / 2\n",
    "        if abs(y - x) < sys.float_info.epsilon:  # sys.float_info.epsilon is a very small value\n",
    "            break\n",
    "        else:\n",
    "            x = y\n",
    "    return x\n",
    "\n",
    "\n",
    "def test_square_root():\n",
    "    a_values = [float(i) for i in range(1, 10)]  # The number of row starting from 1.0 depends on the range\n",
    "\n",
    "    # The mysqrt(a) and math.sqrt(a) column lists\n",
    "    second_col = []\n",
    "    third_col = []\n",
    "    for i in a_values:\n",
    "        second_col.append(mysqrt(i))\n",
    "        third_col.append(math.sqrt(i))\n",
    "\n",
    "    # The difference column list\n",
    "    diff_col = []\n",
    "    for i2, i3 in list(zip(second_col, third_col)):\n",
    "        diff_col.append(abs(i2 - i3))\n",
    "\n",
    "    # Constructing table using the tabulate module\n",
    "    table = {'a': a_values,\n",
    "             'mysqrt(a)': second_col,\n",
    "             'math.sqrt(a)': third_col,\n",
    "             'diff': diff_col}\n",
    "    print(tabulate(table,\n",
    "                   headers='keys',\n",
    "                   floatfmt=('.1f', '.11f', '.10f', ''),\n",
    "                   numalign='left'))\n",
    "\n",
    "\n",
    "test_square_root()"
   ]
  },
  {
   "cell_type": "markdown",
   "id": "edb32baa-d878-404a-8fd8-c3194c723e57",
   "metadata": {},
   "source": [
    "**N.B.**: [tabulate documentation](https://pypi.org/project/tabulate/)"
   ]
  },
  {
   "cell_type": "markdown",
   "id": "420b94ea-3917-4652-883f-2945e3ef1558",
   "metadata": {},
   "source": [
    "### *Exercise 7-2*\n",
    "The built-in function `eval` takes a string and evaluates it using the Python interpreter.\n",
    "\n",
    "For example:"
   ]
  },
  {
   "cell_type": "code",
   "execution_count": 2,
   "id": "1288e79a-3ca4-4af6-99d0-5b2bb0d11d29",
   "metadata": {},
   "outputs": [
    {
     "data": {
      "text/plain": [
       "7"
      ]
     },
     "execution_count": 2,
     "metadata": {},
     "output_type": "execute_result"
    }
   ],
   "source": [
    ">>> eval('1 + 2 * 3')"
   ]
  },
  {
   "cell_type": "code",
   "execution_count": 3,
   "id": "b7cd064f-4ade-477c-b8e4-7a5d9d2c18a5",
   "metadata": {},
   "outputs": [
    {
     "data": {
      "text/plain": [
       "2.23606797749979"
      ]
     },
     "execution_count": 3,
     "metadata": {},
     "output_type": "execute_result"
    }
   ],
   "source": [
    ">>> import math\n",
    ">>> eval('math.sqrt(5)')"
   ]
  },
  {
   "cell_type": "code",
   "execution_count": 4,
   "id": "572260f6-a82c-4900-9338-d91e50bd02e3",
   "metadata": {},
   "outputs": [
    {
     "data": {
      "text/plain": [
       "float"
      ]
     },
     "execution_count": 4,
     "metadata": {},
     "output_type": "execute_result"
    }
   ],
   "source": [
    ">>> eval('type(math.pi)')"
   ]
  },
  {
   "cell_type": "markdown",
   "id": "f4dba89f-03bc-48dc-bd1c-82baab9c6edf",
   "metadata": {},
   "source": [
    "Write a function called `eval_loop` that iteratively prompts the user, takes the resulting input and evaluates it using `eval`, and prints the results"
   ]
  },
  {
   "cell_type": "markdown",
   "id": "08eff9ec-f440-4e27-87c4-a6ebc9aa2563",
   "metadata": {},
   "source": [
    "It should continue until the user enters **`'done'`**, and then return the value of the last expression it evaluated"
   ]
  },
  {
   "cell_type": "markdown",
   "id": "981087e2-b176-4569-805c-363f7d6daa85",
   "metadata": {},
   "source": [
    "### *My Solution for Exercise 7-2*"
   ]
  },
  {
   "cell_type": "code",
   "execution_count": 8,
   "id": "9b142a21-0836-43b9-abc6-bde79e6af80d",
   "metadata": {
    "scrolled": true
   },
   "outputs": [
    {
     "name": "stdin",
     "output_type": "stream",
     "text": [
      "this function evaluate what you typed until you type \"done\":\n",
      " 1 + 2 + 3\n"
     ]
    },
    {
     "name": "stdout",
     "output_type": "stream",
     "text": [
      "6\n"
     ]
    },
    {
     "name": "stdin",
     "output_type": "stream",
     "text": [
      "this function evaluate what you typed until you type \"done\":\n",
      " math.sqrt(4)\n"
     ]
    },
    {
     "name": "stdout",
     "output_type": "stream",
     "text": [
      "2.0\n"
     ]
    },
    {
     "name": "stdin",
     "output_type": "stream",
     "text": [
      "this function evaluate what you typed until you type \"done\":\n",
      " type(math.pi)\n"
     ]
    },
    {
     "name": "stdout",
     "output_type": "stream",
     "text": [
      "<class 'float'>\n"
     ]
    },
    {
     "name": "stdin",
     "output_type": "stream",
     "text": [
      "this function evaluate what you typed until you type \"done\":\n",
      " done\n"
     ]
    },
    {
     "name": "stdout",
     "output_type": "stream",
     "text": [
      "Value of the last evaluated expression: <class 'float'>\n"
     ]
    },
    {
     "data": {
      "text/plain": [
       "float"
      ]
     },
     "execution_count": 8,
     "metadata": {},
     "output_type": "execute_result"
    }
   ],
   "source": [
    "import math\n",
    "\n",
    "\n",
    "def eval_loop():\n",
    "    b = None # Initialize b before the loop, to avoid 'NameError'\n",
    "    while True:\n",
    "        a = input('this function evaluate what you typed until you type \"done\":\\n')\n",
    "        if a == 'done':\n",
    "            '''This avoids printing None in case the user types \"done\" without entering any expressions.'''\n",
    "            if b is not None:\n",
    "                print(f'Value of the last evaluated expression: {b}')\n",
    "            break\n",
    "        b = eval(a)\n",
    "        print(b)\n",
    "    return b\n",
    "\n",
    "\n",
    "eval_loop()"
   ]
  },
  {
   "cell_type": "markdown",
   "id": "0a115c24-16ba-4f89-bdee-2bb8209fe0fd",
   "metadata": {},
   "source": [
    "**N.B.:** If the user inputs **`'done'`** before any other value is evaluated, the function will promptly terminate, ensuring no further expressions are processed. In this scenario, the function concludes without returning any specific result, providing a streamlined exit when **`'done'`** is entered as the initial input."
   ]
  },
  {
   "cell_type": "markdown",
   "id": "85784a5b-dcdd-4030-945e-1e70bc5b681a",
   "metadata": {},
   "source": [
    "### *Exercise 7-3*  \n",
    "\n",
    "The mathematician Srinivasa Ramanujan found an infinite series that can be used to generate a numerical approximation of 1/π:\n",
    "\n",
    "$$\\frac{1}{\\pi} = \\frac{2\\sqrt{2}}{9801} \\sum_{k=0}^{\\infty} \\frac{(4k)!(1103 + 26390k)}{(k!)^4 396^{4k}}$$\n",
    "\n",
    "\n",
    "Write a function called `estimate_pi` that uses this formula to compute and return an estimate of π. It should use a `while` loop to compute terms of the summation until the last term is smaller than `1e-15` (which is Python notation for $10^{-15}$. You can check the result by comparing it to `math.pi`."
   ]
  },
  {
   "cell_type": "markdown",
   "id": "57cc8f4b-c692-4202-a7b1-6390f49eefbf",
   "metadata": {},
   "source": [
    "### *My Solution for Exercise 7-3*"
   ]
  },
  {
   "cell_type": "code",
   "execution_count": 11,
   "id": "a5ec059b-bef6-4a7a-80ff-62ae50db1ded",
   "metadata": {},
   "outputs": [],
   "source": [
    "import math"
   ]
  },
  {
   "cell_type": "code",
   "execution_count": 12,
   "id": "23cf3b47-0d0d-4ee1-ac18-24075098030c",
   "metadata": {},
   "outputs": [],
   "source": [
    "def estimate_pi():\n",
    "    k = 0\n",
    "    total_sum = 0\n",
    "    while True:\n",
    "        term = (math.factorial(4 * k) * (1103 + 26390 * k)) / (math.pow(math.factorial(k), 4) * math.pow(396, 4 * k))\n",
    "        total_sum += term\n",
    "        if term < 1e-15:\n",
    "            break\n",
    "        k += 1\n",
    "\n",
    "    pi = 1 / (2 * math.sqrt(2) / 9801 * total_sum)\n",
    "    return pi"
   ]
  },
  {
   "cell_type": "markdown",
   "id": "28ebf54a-c946-465b-8cec-8ccdb95bb7de",
   "metadata": {},
   "source": [
    "**N.B.:** I use the `math.pow` function instead of the `**` operator for exponentiation. The `math.pow` function supports larger integers without causing an `OverflowError`."
   ]
  },
  {
   "cell_type": "code",
   "execution_count": 13,
   "id": "a552a580-9646-4733-9c04-2292c2d48fb8",
   "metadata": {},
   "outputs": [
    {
     "name": "stdout",
     "output_type": "stream",
     "text": [
      "3.141592653589793\n"
     ]
    }
   ],
   "source": [
    "print(estimate_pi())"
   ]
  },
  {
   "cell_type": "code",
   "execution_count": 14,
   "id": "a22be182-5510-4a7c-b0c3-2d5d21232688",
   "metadata": {},
   "outputs": [
    {
     "name": "stdout",
     "output_type": "stream",
     "text": [
      "3.141592653589793\n"
     ]
    }
   ],
   "source": [
    "print(math.pi)"
   ]
  }
 ],
 "metadata": {
  "kernelspec": {
   "display_name": "Python 3 (ipykernel)",
   "language": "python",
   "name": "python3"
  },
  "language_info": {
   "codemirror_mode": {
    "name": "ipython",
    "version": 3
   },
   "file_extension": ".py",
   "mimetype": "text/x-python",
   "name": "python",
   "nbconvert_exporter": "python",
   "pygments_lexer": "ipython3",
   "version": "3.12.1"
  }
 },
 "nbformat": 4,
 "nbformat_minor": 5
}
