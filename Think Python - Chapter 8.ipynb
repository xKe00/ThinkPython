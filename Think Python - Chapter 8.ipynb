{
 "cells": [
  {
   "cell_type": "markdown",
   "id": "55eb788e-22ec-4feb-b027-c2b036cd4320",
   "metadata": {},
   "source": [
    "# Think Python (2nd Edition)\n",
    "## Chapter 8 - Strings"
   ]
  },
  {
   "cell_type": "markdown",
   "id": "29e16da4-5ea7-4970-8e58-305219cf95a8",
   "metadata": {},
   "source": [
    "### *Exercise 8-1*"
   ]
  },
  {
   "cell_type": "markdown",
   "id": "b3ee2db3-e28f-4603-8938-c2adb43e1b55",
   "metadata": {},
   "source": [
    "Read the documentation of the string methods at *https://docs.python.org/3/library/stdtypes.html#string-methods*. You might want to experiment with some of them to make sure you understand how they work. `strip` and `replace` are particularly useful."
   ]
  },
  {
   "cell_type": "markdown",
   "id": "f8d265c3-650f-4408-86fd-c3674bc9c54b",
   "metadata": {},
   "source": [
    "The documentation uses a syntax that might be confusing. For example, in `find(sub[, start[, end]])`, the brackets indicate optional arguments. So `sub` is required, but `start` is optional, and if you include `start`, then `end` is optional."
   ]
  },
  {
   "cell_type": "markdown",
   "id": "cdcfbc99-5121-4bb5-ab08-0ef28fb37e9d",
   "metadata": {},
   "source": [
    "### *Exercise 8-2*"
   ]
  },
  {
   "cell_type": "markdown",
   "id": "ee892aaa-6938-4d43-aa45-63afcf5a6d4c",
   "metadata": {},
   "source": [
    "There is a string method called `count` that is similar to the function in \"Looping and Counting\" on page 89. Read the documentation of this method and write an invocation that counts the number of `a`'s in 'banana'"
   ]
  },
  {
   "cell_type": "markdown",
   "id": "c8433bf7-f874-4bda-b63f-4369fc85754d",
   "metadata": {},
   "source": [
    "### *My Solution for Exercise 8-2*"
   ]
  },
  {
   "cell_type": "code",
   "execution_count": null,
   "id": "bfe9a9ce-7085-4311-9e6f-516269d665e3",
   "metadata": {},
   "outputs": [],
   "source": [
    "'banana'.count('a')"
   ]
  },
  {
   "cell_type": "markdown",
   "id": "ff7afb14-2278-446c-8a3e-65ba96d042e4",
   "metadata": {},
   "source": [
    "### *Exercise 8-3*"
   ]
  },
  {
   "cell_type": "markdown",
   "id": "fadced2e-219d-4dc6-9b8c-0502531b9d88",
   "metadata": {},
   "source": [
    "A string slice can takke a third index that specifies the \"step size\"; that is, the number of spaces between successive characters. A step size of 2 means every other character; 3 means every third, etc."
   ]
  },
  {
   "cell_type": "code",
   "execution_count": null,
   "id": "9a1728db-2336-4a44-ae90-02972e90bc8b",
   "metadata": {},
   "outputs": [],
   "source": [
    ">>> fruit = 'banana'\n",
    ">>> fruit[0:5:2]"
   ]
  },
  {
   "cell_type": "raw",
   "id": "00f10b61-2e2c-4fde-9f2d-dcc0e682257a",
   "metadata": {},
   "source": [
    "'bnn'"
   ]
  },
  {
   "cell_type": "markdown",
   "id": "cd3b3856-f2e1-4773-9894-605f972ce05e",
   "metadata": {},
   "source": [
    "A step size of -1 goes through the word backwards, so theslice `[::-1]` generates a reversed string.\n",
    "\n",
    "Use this idiom to write a one-line version of `is_palindrome` from Exercise 6-3."
   ]
  },
  {
   "cell_type": "code",
   "execution_count": null,
   "id": "ec6930aa-23dc-45c8-94a3-cf3c9cad222c",
   "metadata": {},
   "outputs": [],
   "source": [
    "def is_palindrome(word):\n",
    "    return word == word[::-1]"
   ]
  },
  {
   "cell_type": "markdown",
   "id": "420b94ea-3917-4652-883f-2945e3ef1558",
   "metadata": {},
   "source": [
    "### *Exercise 8-4*\n"
   ]
  },
  {
   "cell_type": "markdown",
   "id": "80d7b0c3-7775-4923-8ca4-e5df5a59e40a",
   "metadata": {},
   "source": [
    "The following functions are all intended to check whether a string contains any lower-case letters, but at least some of them are wrong. For ech function, describe what the function actually does (assuming that the parameter is a string)."
   ]
  },
  {
   "cell_type": "code",
   "execution_count": null,
   "id": "7dffa231-329f-4d09-b13e-c252fb2b4567",
   "metadata": {},
   "outputs": [],
   "source": [
    "def any_lowercase1(s):\n",
    "    for c in s:\n",
    "        if c.islower():\n",
    "            return True\n",
    "        else:\n",
    "            return False\n",
    "\n",
    "\n",
    "def any_lowercase2(s):\n",
    "    for c in s:\n",
    "        if 'c'.islower():\n",
    "            return 'True'\n",
    "        else:\n",
    "            return 'False'\n",
    "\n",
    "\n",
    "def any_lowercase3(s):\n",
    "    for c in s:\n",
    "        flag = c.islower()\n",
    "    return flag\n",
    "    \n",
    "\n",
    "def any_lowercase4(s):\n",
    "    flag = False\n",
    "    for c in s:\n",
    "        flag = flag or c.islower()\n",
    "    return flag\n",
    "\n",
    "\n",
    "def any_lowercase5(s):\n",
    "    for c in s:\n",
    "        if not c.islower():\n",
    "            return False\n",
    "    return True"
   ]
  },
  {
   "cell_type": "markdown",
   "id": "a959e256-84ce-45ad-baa7-a43b638f9726",
   "metadata": {},
   "source": [
    "### *My Solution for Exercise 8-4*\n"
   ]
  },
  {
   "cell_type": "code",
   "execution_count": null,
   "id": "75fb6d5b-ea0f-4f4e-83a4-b5b4fe144950",
   "metadata": {},
   "outputs": [],
   "source": [
    "def any_lowercase1(s):\n",
    "    for c in s:\n",
    "        if c.islower():\n",
    "            return True\n",
    "        else:\n",
    "            return False\n",
    "\n",
    "\n",
    "print(any_lowercase1('apple'))\n",
    "print(type(any_lowercase1('apple')))\n",
    "# it returns a boolean of whether the input string are all lowercase or not\n",
    "\n",
    "\n",
    "\n",
    "\n",
    "def any_lowercase2(s):\n",
    "    for c in s:\n",
    "        if 'c'.islower():\n",
    "            return 'True'\n",
    "        else:\n",
    "            return 'False'\n",
    "\n",
    "\n",
    "print(any_lowercase2('apple'))\n",
    "print(type(any_lowercase2('apple')))\n",
    "# it returns a string of whether the input string are all lowercase or not\n",
    "\n",
    "\n",
    "\n",
    "\n",
    "def any_lowercase3(s):\n",
    "    for c in s:\n",
    "        flag = c.islower()\n",
    "    return flag\n",
    "# it returns a boolean of whether the input string are all lowercase or not, similar to the first one\n",
    "\n",
    "\n",
    "\n",
    "\n",
    "def any_lowercase4(s):\n",
    "    flag = False\n",
    "    for c in s:\n",
    "        flag = flag or c.islower()\n",
    "    return flag\n",
    "# it retunrs True if a lowercase letter appear in the string, only return Flase when the string is all uppercase\n",
    "\n",
    "\n",
    "\n",
    "\n",
    "def any_lowercase5(s):\n",
    "    for c in s:\n",
    "        if not c.islower():\n",
    "            return False\n",
    "    return True\n",
    "# it returns a boolean of whether the input string are all lowercase or not, similar to the first one"
   ]
  },
  {
   "cell_type": "markdown",
   "id": "bda86d73-636d-412a-9ae0-3ac53945e73b",
   "metadata": {},
   "source": [
    "### *Exercise 8-5*\n"
   ]
  },
  {
   "cell_type": "markdown",
   "id": "2a9ba96e-4273-4cd1-aec7-1235d9879ee2",
   "metadata": {},
   "source": [
    "A Caesar cypher is a weak form of encryption that involves \"rotating\" each letter by a fixed number of places. To rotate a letter means to shift through the alphabet, wrapping around to the beginning if necessary, so 'A' rotated by 3 is 'D' and 'Z' rotated by 1 is 'A'.\n",
    "\n",
    "To rotate a word, rotate each letter by the same account. For example, \"cheer\" rotated by 7 is \"jolly\" and \"melon\" rotated by -10 is \"cubed\". In the movie *2001: A Space Odyssey*, the ship computer is called HAL, which is IBM rotated by -1.\n",
    "\n",
    "Write a function called `rotate_word` that takes a string and an integer as parameters, and returns a new string that contains the letters from the original string rotated by the given amount.\n",
    "\n",
    "You might want to use the built-in function `ord`, which converts a character to a numeric code, and `chr`, which converts numeric codes to characters. Letters of the alphabet are encoded in alphabetical order, so for example:"
   ]
  },
  {
   "cell_type": "code",
   "execution_count": null,
   "id": "56fc7da2-b81d-4d6f-aace-9265b3b17402",
   "metadata": {},
   "outputs": [],
   "source": [
    ">>> ord('c') - ord('a')"
   ]
  },
  {
   "cell_type": "raw",
   "id": "dba111b9-016a-4667-a8e1-c04d66989ff1",
   "metadata": {},
   "source": [
    "2"
   ]
  },
  {
   "cell_type": "markdown",
   "id": "1cdf9ce4-7bfd-412b-a31c-79a650429238",
   "metadata": {},
   "source": [
    "Because `'c'` is the two-eth letter of the alphabet. But beware: the numeric codes for uppercase letters are different.\n",
    "\n",
    "Potentially offensive jokes on the Internet are sometimes encoded in ROT13, which is a Caesar cypher with rotation 13. If you are not easily offended, find and decode some of them."
   ]
  },
  {
   "cell_type": "markdown",
   "id": "fd789e97-d22c-42bc-b34c-6bb5a5a9850a",
   "metadata": {},
   "source": [
    "Solution: *https://github.com/AllenDowney/ThinkPython2/blob/master/code/rotate.py*"
   ]
  }
 ],
 "metadata": {
  "kernelspec": {
   "display_name": "Python 3 (ipykernel)",
   "language": "python",
   "name": "python3"
  },
  "language_info": {
   "codemirror_mode": {
    "name": "ipython",
    "version": 3
   },
   "file_extension": ".py",
   "mimetype": "text/x-python",
   "name": "python",
   "nbconvert_exporter": "python",
   "pygments_lexer": "ipython3",
   "version": "3.12.1"
  }
 },
 "nbformat": 4,
 "nbformat_minor": 5
}
